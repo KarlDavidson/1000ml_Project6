{
  "nbformat": 4,
  "nbformat_minor": 0,
  "metadata": {
    "colab": {
      "name": "Boosting_Models.ipynb",
      "provenance": [],
      "collapsed_sections": [
        "v3tEFE0hDXm_",
        "LwN4FFlkDAbb"
      ]
    },
    "kernelspec": {
      "name": "python3",
      "display_name": "Python 3"
    },
    "accelerator": "GPU"
  },
  "cells": [
    {
      "cell_type": "markdown",
      "metadata": {
        "id": "DF8BOwE6he2a",
        "colab_type": "text"
      },
      "source": [
        "## Mount Drive for Colab"
      ]
    },
    {
      "cell_type": "code",
      "metadata": {
        "id": "_jA1ea-IiBfo",
        "colab_type": "code",
        "outputId": "1407bff4-4e37-4381-9fde-e57c9dd8db29",
        "colab": {
          "base_uri": "https://localhost:8080/",
          "height": 34
        }
      },
      "source": [
        "from google.colab import drive\n",
        "drive.mount('/content/gdrive')"
      ],
      "execution_count": 1,
      "outputs": [
        {
          "output_type": "stream",
          "text": [
            "Drive already mounted at /content/gdrive; to attempt to forcibly remount, call drive.mount(\"/content/gdrive\", force_remount=True).\n"
          ],
          "name": "stdout"
        }
      ]
    },
    {
      "cell_type": "code",
      "metadata": {
        "id": "26f37CndiB1x",
        "colab_type": "code",
        "outputId": "8c4a0bc3-b053-489b-eb4f-e0cfd6b67918",
        "colab": {
          "base_uri": "https://localhost:8080/",
          "height": 34
        }
      },
      "source": [
        "%cd gdrive/My\\ Drive/1000ml/Project\\ 6\\ -\\ Intrusion\\ Detection/1000ml_Project6"
      ],
      "execution_count": 2,
      "outputs": [
        {
          "output_type": "stream",
          "text": [
            "/content/gdrive/My Drive/1000ml/Project 6 - Intrusion Detection/1000ml_Project6\n"
          ],
          "name": "stdout"
        }
      ]
    },
    {
      "cell_type": "markdown",
      "metadata": {
        "id": "5vnv3uKtibHA",
        "colab_type": "text"
      },
      "source": [
        "# Imports"
      ]
    },
    {
      "cell_type": "code",
      "metadata": {
        "id": "eBUgRRKpMDao",
        "colab_type": "code",
        "colab": {
          "base_uri": "https://localhost:8080/",
          "height": 328
        },
        "outputId": "ec66a4c2-04e5-4ed6-e170-1b5a3a0f2210"
      },
      "source": [
        "pip install -U imbalanced-learn"
      ],
      "execution_count": 13,
      "outputs": [
        {
          "output_type": "stream",
          "text": [
            "Collecting imbalanced-learn\n",
            "\u001b[?25l  Downloading https://files.pythonhosted.org/packages/c8/73/36a13185c2acff44d601dc6107b5347e075561a49e15ddd4e69988414c3e/imbalanced_learn-0.6.2-py3-none-any.whl (163kB)\n",
            "\r\u001b[K     |██                              | 10kB 28.3MB/s eta 0:00:01\r\u001b[K     |████                            | 20kB 3.1MB/s eta 0:00:01\r\u001b[K     |██████                          | 30kB 4.1MB/s eta 0:00:01\r\u001b[K     |████████                        | 40kB 2.9MB/s eta 0:00:01\r\u001b[K     |██████████                      | 51kB 3.3MB/s eta 0:00:01\r\u001b[K     |████████████                    | 61kB 4.0MB/s eta 0:00:01\r\u001b[K     |██████████████                  | 71kB 4.2MB/s eta 0:00:01\r\u001b[K     |████████████████                | 81kB 4.4MB/s eta 0:00:01\r\u001b[K     |██████████████████              | 92kB 4.9MB/s eta 0:00:01\r\u001b[K     |████████████████████            | 102kB 4.7MB/s eta 0:00:01\r\u001b[K     |██████████████████████          | 112kB 4.7MB/s eta 0:00:01\r\u001b[K     |████████████████████████▏       | 122kB 4.7MB/s eta 0:00:01\r\u001b[K     |██████████████████████████▏     | 133kB 4.7MB/s eta 0:00:01\r\u001b[K     |████████████████████████████▏   | 143kB 4.7MB/s eta 0:00:01\r\u001b[K     |██████████████████████████████▏ | 153kB 4.7MB/s eta 0:00:01\r\u001b[K     |████████████████████████████████| 163kB 4.7MB/s \n",
            "\u001b[?25hRequirement already satisfied, skipping upgrade: numpy>=1.11 in /usr/local/lib/python3.6/dist-packages (from imbalanced-learn) (1.18.3)\n",
            "Requirement already satisfied, skipping upgrade: scipy>=0.17 in /usr/local/lib/python3.6/dist-packages (from imbalanced-learn) (1.4.1)\n",
            "Requirement already satisfied, skipping upgrade: scikit-learn>=0.22 in /usr/local/lib/python3.6/dist-packages (from imbalanced-learn) (0.22.2.post1)\n",
            "Requirement already satisfied, skipping upgrade: joblib>=0.11 in /usr/local/lib/python3.6/dist-packages (from imbalanced-learn) (0.14.1)\n",
            "Installing collected packages: imbalanced-learn\n",
            "  Found existing installation: imbalanced-learn 0.4.3\n",
            "    Uninstalling imbalanced-learn-0.4.3:\n",
            "      Successfully uninstalled imbalanced-learn-0.4.3\n",
            "Successfully installed imbalanced-learn-0.6.2\n"
          ],
          "name": "stdout"
        },
        {
          "output_type": "display_data",
          "data": {
            "application/vnd.colab-display-data+json": {
              "pip_warning": {
                "packages": [
                  "imblearn"
                ]
              }
            }
          },
          "metadata": {
            "tags": []
          }
        }
      ]
    },
    {
      "cell_type": "code",
      "metadata": {
        "id": "R-QpecA9MGm0",
        "colab_type": "code",
        "colab": {
          "base_uri": "https://localhost:8080/",
          "height": 208
        },
        "outputId": "d8a55985-7bae-4fd8-f334-a711672407d0"
      },
      "source": [
        "pip install -U xgboost"
      ],
      "execution_count": 14,
      "outputs": [
        {
          "output_type": "stream",
          "text": [
            "Collecting xgboost\n",
            "\u001b[?25l  Downloading https://files.pythonhosted.org/packages/70/91/551d37ba472bcbd70a25e667acc65a18a9d053657b13afcf0f87aa24d7bb/xgboost-1.0.2-py3-none-manylinux1_x86_64.whl (109.7MB)\n",
            "\u001b[K     |████████████████████████████████| 109.8MB 37kB/s \n",
            "\u001b[?25hRequirement already satisfied, skipping upgrade: scipy in /usr/local/lib/python3.6/dist-packages (from xgboost) (1.4.1)\n",
            "Requirement already satisfied, skipping upgrade: numpy in /usr/local/lib/python3.6/dist-packages (from xgboost) (1.18.3)\n",
            "Installing collected packages: xgboost\n",
            "  Found existing installation: xgboost 0.90\n",
            "    Uninstalling xgboost-0.90:\n",
            "      Successfully uninstalled xgboost-0.90\n",
            "Successfully installed xgboost-1.0.2\n"
          ],
          "name": "stdout"
        }
      ]
    },
    {
      "cell_type": "code",
      "metadata": {
        "id": "6xcqeOF8ikN4",
        "colab_type": "code",
        "outputId": "2dc8ef46-0bcc-48c5-ac43-7cf01072cdc7",
        "colab": {
          "base_uri": "https://localhost:8080/",
          "height": 88
        }
      },
      "source": [
        "import pandas as pd\n",
        "import numpy as np\n",
        "\n",
        "import matplotlib.pyplot as plt\n",
        "import seaborn as sns\n",
        "\n",
        "from sklearn.linear_model import LogisticRegression\n",
        "from sklearn.tree import DecisionTreeClassifier\n",
        "from sklearn.ensemble import RandomForestClassifier, BaggingClassifier\n",
        "\n",
        "from sklearn.model_selection import train_test_split as TTS\n",
        "from sklearn.model_selection import GridSearchCV, RandomizedSearchCV\n",
        "from sklearn.preprocessing import MinMaxScaler, StandardScaler\n",
        "from sklearn.compose import ColumnTransformer\n",
        "\n",
        "from sklearn.feature_selection import chi2, SelectKBest, f_classif\n",
        "\n",
        "from sklearn.metrics import precision_score, f1_score, recall_score\n",
        "\n",
        "from imblearn.pipeline import Pipeline\n",
        "from imblearn.under_sampling import TomekLinks\n",
        "from imblearn.over_sampling import SMOTE\n",
        "from imblearn.combine import SMOTETomek\n",
        "\n",
        "rand = 3"
      ],
      "execution_count": 3,
      "outputs": [
        {
          "output_type": "stream",
          "text": [
            "/usr/local/lib/python3.6/dist-packages/statsmodels/tools/_testing.py:19: FutureWarning: pandas.util.testing is deprecated. Use the functions in the public API at pandas.testing instead.\n",
            "  import pandas.util.testing as tm\n",
            "Using TensorFlow backend.\n"
          ],
          "name": "stderr"
        }
      ]
    },
    {
      "cell_type": "markdown",
      "metadata": {
        "id": "5q1_e4rRjZhn",
        "colab_type": "text"
      },
      "source": [
        "# Set up"
      ]
    },
    {
      "cell_type": "code",
      "metadata": {
        "id": "zOeFiHbginfZ",
        "colab_type": "code",
        "colab": {}
      },
      "source": [
        "intrusion_df = pd.read_csv('data/variable_reduced_data.csv')"
      ],
      "execution_count": 0,
      "outputs": []
    },
    {
      "cell_type": "code",
      "metadata": {
        "id": "OpDMAsnMjQgt",
        "colab_type": "code",
        "colab": {}
      },
      "source": [
        "reduced_num_cols = ['wrong_fragment',\n",
        "                    'hot',\n",
        "                    'num_failed_logins',\n",
        "                    'num_compromised',\n",
        "                    'num_root',\n",
        "                    'count',\n",
        "                    'num_file_creations',\n",
        "                    'num_shells', \n",
        "                    'num_access_files',\n",
        "                    'srv_count',\n",
        "                    'serror_rate',\n",
        "                    'srv_serror_rate',\n",
        "                    'dst_host_count',\n",
        "                    'dst_host_srv_count',\n",
        "                    'dst_host_same_srv_rate',\n",
        "                    'dst_host_diff_srv_rate',\n",
        "                    'dst_host_same_src_port_rate',\n",
        "                    'dst_host_srv_diff_host_rate',\n",
        "                    'dst_host_serror_rate',\n",
        "                    'dst_host_srv_serror_rate',\n",
        "                    'dst_host_rerror_rate',\n",
        "                    'dst_host_srv_rerror_rate']\n",
        "\n",
        "reduced_cat_cols = ['protocol_type = tcp',\n",
        "                    'protocol_type = icmp',\n",
        "                    'service = domain_u',\n",
        "                    'service = http',\n",
        "                    'service = smtp',\n",
        "                    'service = ftp_data',\n",
        "                    'service = ftp',\n",
        "                    'service = other',\n",
        "                    'service = ecr_i',\n",
        "                    'service = telnet',\n",
        "                    'service = tim_i',\n",
        "                    'service = uucp',\n",
        "                    'service = courier',\n",
        "                    'service = private',\n",
        "                    'flag = SF',\n",
        "                    'flag = REJ',\n",
        "                    'flag = SH',\n",
        "                    'logged_in',\n",
        "                    'is_host_login',\n",
        "                    'is_guest_login',\n",
        "                    'root_shell']"
      ],
      "execution_count": 0,
      "outputs": []
    },
    {
      "cell_type": "code",
      "metadata": {
        "id": "8CE2l0-0CcK3",
        "colab_type": "code",
        "colab": {}
      },
      "source": [
        "def print_scores(model, train_x, validation_x, train_y, validation_y):\n",
        "    '''\n",
        "    This function takes in a Classifier model that has previously been fit to a set of train data.\n",
        "    It then calculates the predicted classifications and outputs the recall, precision and f1 scores\n",
        "    for train and validation data sets\n",
        "    '''\n",
        "    y_train_pred = model.predict(train_x)\n",
        "    y_val_pred = model.predict(validation_x)\n",
        "    \n",
        "    train_prec = precision_score(train_y, y_train_pred)\n",
        "    val_prec = precision_score(validation_y, y_val_pred)\n",
        "    \n",
        "    train_f1 = f1_score(train_y, y_train_pred)\n",
        "    val_f1 = f1_score(validation_y, y_val_pred)\n",
        "    \n",
        "    train_recall = recall_score(train_y, y_train_pred)\n",
        "    val_recall = recall_score(validation_y, y_val_pred)\n",
        "    \n",
        "    print(f'''    Precision:\n",
        "    Train = {train_prec.round(3)}\n",
        "    Validation = {val_prec.round(3)}\n",
        "    \n",
        "    F1:\n",
        "    Train = {train_f1.round(3)}\n",
        "    Validation = {val_f1.round(3)}\n",
        "    \n",
        "    Recall:\n",
        "    Train = {train_recall.round(3)}\n",
        "    Validation = {val_recall.round(3)}    \n",
        "    ''')"
      ],
      "execution_count": 0,
      "outputs": []
    },
    {
      "cell_type": "markdown",
      "metadata": {
        "id": "vNa8Nq28k4f0",
        "colab_type": "text"
      },
      "source": [
        "# Reset Models"
      ]
    },
    {
      "cell_type": "code",
      "metadata": {
        "id": "3iqI7fDzCXRg",
        "colab_type": "code",
        "colab": {}
      },
      "source": [
        "# set, train test split and scale\n",
        "# Set data\n",
        "x = intrusion_df[reduced_num_cols+reduced_cat_cols]\n",
        "y = intrusion_df['target']\n",
        "\n",
        "# train val test split\n",
        "x_rest, x_test, y_rest, y_test = TTS(x,y,test_size=0.20,random_state=3)\n",
        "x_train, x_val, y_train, y_val = TTS(x_rest,y_rest,test_size=0.25,random_state=3)\n",
        "\n",
        "transformed_cols = reduced_num_cols+reduced_cat_cols\n",
        "\n",
        "# scale the numeric data\n",
        "ct = ColumnTransformer(\n",
        "            [(\"Num_Cols\", StandardScaler(), reduced_num_cols),\n",
        "             (\"Cat_Cols\", 'passthrough', reduced_cat_cols)\n",
        "             ])\n",
        "\n",
        "# Define scaled data as dataframes\n",
        "x_train_scale = pd.DataFrame(ct.fit_transform(x_train), columns=transformed_cols)\n",
        "x_val_scale = pd.DataFrame(ct.transform(x_val), columns=transformed_cols)\n",
        "x_test_scale = pd.DataFrame(ct.transform(x_test), columns=transformed_cols)"
      ],
      "execution_count": 0,
      "outputs": []
    },
    {
      "cell_type": "markdown",
      "metadata": {
        "id": "v3tEFE0hDXm_",
        "colab_type": "text"
      },
      "source": [
        "## RandomForest Model: Default Class Balancing"
      ]
    },
    {
      "cell_type": "code",
      "metadata": {
        "id": "Q26EAW98Crvf",
        "colab_type": "code",
        "outputId": "8a884bff-adf7-4406-fa37-e13222bfc4ca",
        "colab": {
          "base_uri": "https://localhost:8080/",
          "height": 223
        }
      },
      "source": [
        "# Create and fit model, print scores\n",
        "rf_model = RandomForestClassifier(class_weight='balanced',\n",
        "                                  random_state=rand,\n",
        "                                  n_estimators=200,\n",
        "                                  min_samples_leaf=1,\n",
        "                                  min_samples_split=2,\n",
        "                                  max_features=None,\n",
        "                                  max_depth=20,\n",
        "                                  criterion='gini'\n",
        "                                 )\n",
        "rf_model.fit(x_train_scale,y_train)\n",
        "\n",
        "print_scores(rf_model, x_train_scale, x_val_scale, y_train, y_val)"
      ],
      "execution_count": 8,
      "outputs": [
        {
          "output_type": "stream",
          "text": [
            "    Precision:\n",
            "    Train = 0.993\n",
            "    Validation = 0.87\n",
            "    \n",
            "    F1:\n",
            "    Train = 0.996\n",
            "    Validation = 0.714\n",
            "    \n",
            "    Recall:\n",
            "    Train = 1.0\n",
            "    Validation = 0.606    \n",
            "    \n"
          ],
          "name": "stdout"
        }
      ]
    },
    {
      "cell_type": "markdown",
      "metadata": {
        "id": "LwN4FFlkDAbb",
        "colab_type": "text"
      },
      "source": [
        "## RandomForest Model: SMOTETomek Class Balancing\n",
        "\n",
        "Doesn't really work. Good try though buddy"
      ]
    },
    {
      "cell_type": "code",
      "metadata": {
        "id": "NxjG2qUPDJ4B",
        "colab_type": "code",
        "colab": {}
      },
      "source": [
        "combine = SMOTETomek(sampling_strategy='all', # resamples all the data \n",
        "                     random_state=rand, \n",
        "                     n_jobs=-1,\n",
        "                     smote=SMOTE(),  # default parameters used\n",
        "                     tomek=TomekLinks()  # default params used\n",
        "                    )\n",
        "                   \n",
        "# fit and resample\n",
        "x_train_rs, y_train_rs = combine.fit_resample(x_train,y_train)"
      ],
      "execution_count": 0,
      "outputs": []
    },
    {
      "cell_type": "code",
      "metadata": {
        "id": "WSMfdTVeD_i7",
        "colab_type": "code",
        "colab": {}
      },
      "source": [
        "# scale the numeric data\n",
        "ct_bal = ColumnTransformer(\n",
        "            [(\"Num_Cols\", StandardScaler(), reduced_num_cols),\n",
        "             (\"Cat_Cols\", 'passthrough', reduced_cat_cols)\n",
        "             ])\n",
        "\n",
        "# Scale the data with the column transformer\n",
        "x_train_rs_scale = pd.DataFrame(ct_bal.fit_transform(x_train_rs), columns=transformed_cols)\n",
        "x_val_rs_scale = pd.DataFrame(ct_bal.transform(x_val), columns=transformed_cols)"
      ],
      "execution_count": 0,
      "outputs": []
    },
    {
      "cell_type": "code",
      "metadata": {
        "id": "XIB76D5WErPK",
        "colab_type": "code",
        "colab": {}
      },
      "source": [
        "# Pick model based on the grid search from the RF section below.\n",
        "rf_model_combine = RandomForestClassifier(class_weight='balanced',\n",
        "                                          random_state=rand,\n",
        "                                          n_estimators=150,\n",
        "                                          min_samples_leaf=1,\n",
        "                                          min_samples_split=2,\n",
        "                                          max_features=None,\n",
        "                                          max_depth=22,\n",
        "                                          criterion='gini',\n",
        "                                          n_jobs=-1\n",
        "                                         )"
      ],
      "execution_count": 0,
      "outputs": []
    },
    {
      "cell_type": "code",
      "metadata": {
        "id": "AacLxS8aExZv",
        "colab_type": "code",
        "outputId": "402d2630-abe7-4f9c-9bfc-b65180f15a30",
        "colab": {
          "base_uri": "https://localhost:8080/",
          "height": 154
        }
      },
      "source": [
        "# fit model\n",
        "rf_model_combine.fit(x_train_rs_scale, y_train_rs)"
      ],
      "execution_count": 27,
      "outputs": [
        {
          "output_type": "execute_result",
          "data": {
            "text/plain": [
              "RandomForestClassifier(bootstrap=True, ccp_alpha=0.0, class_weight='balanced',\n",
              "                       criterion='gini', max_depth=22, max_features=None,\n",
              "                       max_leaf_nodes=None, max_samples=None,\n",
              "                       min_impurity_decrease=0.0, min_impurity_split=None,\n",
              "                       min_samples_leaf=1, min_samples_split=2,\n",
              "                       min_weight_fraction_leaf=0.0, n_estimators=150,\n",
              "                       n_jobs=-1, oob_score=False, random_state=3, verbose=0,\n",
              "                       warm_start=False)"
            ]
          },
          "metadata": {
            "tags": []
          },
          "execution_count": 27
        }
      ]
    },
    {
      "cell_type": "code",
      "metadata": {
        "id": "5UtfsqsUE4jH",
        "colab_type": "code",
        "outputId": "c258c479-f420-4dae-955e-6522441fb285",
        "colab": {
          "base_uri": "https://localhost:8080/",
          "height": 223
        }
      },
      "source": [
        "# Print the scores\n",
        "print_scores(rf_model_combine, x_train_rs_scale, x_val_rs_scale, y_train_rs, y_val)"
      ],
      "execution_count": 28,
      "outputs": [
        {
          "output_type": "stream",
          "text": [
            "    Precision:\n",
            "    Train = 1.0\n",
            "    Validation = 0.54\n",
            "    \n",
            "    F1:\n",
            "    Train = 1.0\n",
            "    Validation = 0.651\n",
            "    \n",
            "    Recall:\n",
            "    Train = 1.0\n",
            "    Validation = 0.818    \n",
            "    \n"
          ],
          "name": "stdout"
        }
      ]
    },
    {
      "cell_type": "markdown",
      "metadata": {
        "id": "jqT3GQpmE_xG",
        "colab_type": "text"
      },
      "source": [
        "### Now with a Pipeline"
      ]
    },
    {
      "cell_type": "code",
      "metadata": {
        "id": "9Q-wgm3eF602",
        "colab_type": "code",
        "outputId": "ccd8ab46-0cc1-4457-b640-fbac89bf15d6",
        "colab": {
          "base_uri": "https://localhost:8080/",
          "height": 463
        }
      },
      "source": [
        "# (re)Define Pipeline Steps\n",
        "\n",
        "# Combination method for over/under sampling\n",
        "combine = SMOTETomek(sampling_strategy='all', # resamples all the data \n",
        "                     random_state=rand, \n",
        "                     n_jobs=-1, \n",
        "                     smote=SMOTE(),  # default parameters used\n",
        "                     tomek=TomekLinks()  # default params used\n",
        "                    )\n",
        "\n",
        "# The column transformer - leaves discrete columns alone and standard scales the cts columns\n",
        "ct_pipe = ColumnTransformer(\n",
        "            [(\"Num_Cols\", StandardScaler(), reduced_num_cols),\n",
        "             (\"Cat_Cols\", 'passthrough', reduced_cat_cols)\n",
        "             ])\n",
        "\n",
        "# Random Forest model \n",
        "rf_model_combine = RandomForestClassifier(class_weight='balanced',\n",
        "                                          random_state=rand,\n",
        "                                          n_estimators=150,\n",
        "                                          min_samples_leaf=1,\n",
        "                                          min_samples_split=2,\n",
        "                                          max_features=None,\n",
        "                                          max_depth=22,\n",
        "                                          criterion='gini',\n",
        "                                          n_jobs=-1\n",
        "                                         )\n",
        "\n",
        "combine_pipe = Pipeline(steps=[('combo_sampler',combine),\n",
        "                              ('scaler',ct_pipe),\n",
        "                              ('model',rf_model_combine)])\n",
        "\n",
        "combine_pipe.fit(x_train,y_train)"
      ],
      "execution_count": 21,
      "outputs": [
        {
          "output_type": "execute_result",
          "data": {
            "text/plain": [
              "Pipeline(memory=None,\n",
              "         steps=[('combo_sampler',\n",
              "                 SMOTETomek(n_jobs=-1, random_state=3, sampling_strategy='all',\n",
              "                            smote=SMOTE(k_neighbors=5, n_jobs=None,\n",
              "                                        random_state=None,\n",
              "                                        sampling_strategy='auto'),\n",
              "                            tomek=TomekLinks(n_jobs=None,\n",
              "                                             sampling_strategy='auto'))),\n",
              "                ('scaler',\n",
              "                 ColumnTransformer(n_jobs=None, remainder='drop',\n",
              "                                   sparse_threshold=0.3,\n",
              "                                   transformer_weights=None,\n",
              "                                   tra...\n",
              "                 RandomForestClassifier(bootstrap=True, ccp_alpha=0.0,\n",
              "                                        class_weight='balanced',\n",
              "                                        criterion='gini', max_depth=22,\n",
              "                                        max_features=None, max_leaf_nodes=None,\n",
              "                                        max_samples=None,\n",
              "                                        min_impurity_decrease=0.0,\n",
              "                                        min_impurity_split=None,\n",
              "                                        min_samples_leaf=1, min_samples_split=2,\n",
              "                                        min_weight_fraction_leaf=0.0,\n",
              "                                        n_estimators=150, n_jobs=-1,\n",
              "                                        oob_score=False, random_state=3,\n",
              "                                        verbose=0, warm_start=False))],\n",
              "         verbose=False)"
            ]
          },
          "metadata": {
            "tags": []
          },
          "execution_count": 21
        }
      ]
    },
    {
      "cell_type": "code",
      "metadata": {
        "id": "FDgua1IiGB03",
        "colab_type": "code",
        "outputId": "7fff8df9-89ec-41c2-c16e-45c2a9d16dfa",
        "colab": {
          "base_uri": "https://localhost:8080/",
          "height": 223
        }
      },
      "source": [
        "print_scores(combine_pipe, x_train, x_val, y_train, y_val)"
      ],
      "execution_count": 22,
      "outputs": [
        {
          "output_type": "stream",
          "text": [
            "    Precision:\n",
            "    Train = 1.0\n",
            "    Validation = 0.551\n",
            "    \n",
            "    F1:\n",
            "    Train = 1.0\n",
            "    Validation = 0.659\n",
            "    \n",
            "    Recall:\n",
            "    Train = 1.0\n",
            "    Validation = 0.818    \n",
            "    \n"
          ],
          "name": "stdout"
        }
      ]
    },
    {
      "cell_type": "markdown",
      "metadata": {
        "id": "jw1aIzxVHAz4",
        "colab_type": "text"
      },
      "source": [
        "# Boosting"
      ]
    },
    {
      "cell_type": "markdown",
      "metadata": {
        "id": "eWas-TTaPUMB",
        "colab_type": "text"
      },
      "source": [
        "Plan: \n",
        "Explore XGBoost using normal"
      ]
    },
    {
      "cell_type": "code",
      "metadata": {
        "id": "8CPBZCDXHsZd",
        "colab_type": "code",
        "colab": {}
      },
      "source": [
        "from xgboost import XGBClassifier as XGBc"
      ],
      "execution_count": 0,
      "outputs": []
    },
    {
      "cell_type": "code",
      "metadata": {
        "id": "xiuFLPBFHu-P",
        "colab_type": "code",
        "colab": {}
      },
      "source": [
        "xgb_model = XGBc(max_depth = 2,\n",
        "                 random_state=rand,\n",
        "                 learning_rate=0.05,\n",
        "                 tree_method = 'gpu_hist',\n",
        "                 booster = 'gbtree',\n",
        "                 colsample_bytree=0.8,\n",
        "                 colsample_bynode=0.8,\n",
        "                 colsample_bylevel=0.8,\n",
        "                 reg_alpha=1,\n",
        "                 reg_lambda=1\n",
        "                 )"
      ],
      "execution_count": 0,
      "outputs": []
    },
    {
      "cell_type": "code",
      "metadata": {
        "id": "clHIN7hNTB2U",
        "colab_type": "code",
        "colab": {
          "base_uri": "https://localhost:8080/",
          "height": 188
        },
        "outputId": "87caea72-f83a-4655-a304-3f44e5c350ac"
      },
      "source": [
        "xgb_model.fit(x_train_scale, y_train)"
      ],
      "execution_count": 23,
      "outputs": [
        {
          "output_type": "execute_result",
          "data": {
            "text/plain": [
              "XGBClassifier(base_score=0.5, booster='gbtree', colsample_bylevel=0.8,\n",
              "              colsample_bynode=0.8, colsample_bytree=0.8, gamma=0, gpu_id=0,\n",
              "              importance_type='gain', interaction_constraints=None,\n",
              "              learning_rate=0.05, max_delta_step=0, max_depth=2,\n",
              "              min_child_weight=1, missing=nan, monotone_constraints=None,\n",
              "              n_estimators=100, n_jobs=0, num_parallel_tree=1,\n",
              "              objective='binary:logistic', random_state=3, reg_alpha=1,\n",
              "              reg_lambda=1, scale_pos_weight=1, subsample=1,\n",
              "              tree_method='gpu_hist', validate_parameters=False,\n",
              "              verbosity=None)"
            ]
          },
          "metadata": {
            "tags": []
          },
          "execution_count": 23
        }
      ]
    },
    {
      "cell_type": "code",
      "metadata": {
        "id": "uASrJDjmTFN-",
        "colab_type": "code",
        "colab": {
          "base_uri": "https://localhost:8080/",
          "height": 223
        },
        "outputId": "6c5c4600-8f31-4d69-abc2-965ca9f6d8e7"
      },
      "source": [
        "print_scores(xgb_model, x_train_scale, x_test_scale, y_train, y_test)"
      ],
      "execution_count": 25,
      "outputs": [
        {
          "output_type": "stream",
          "text": [
            "    Precision:\n",
            "    Train = 0.989\n",
            "    Validation = 0.952\n",
            "    \n",
            "    F1:\n",
            "    Train = 0.807\n",
            "    Validation = 0.8\n",
            "    \n",
            "    Recall:\n",
            "    Train = 0.681\n",
            "    Validation = 0.69    \n",
            "    \n"
          ],
          "name": "stdout"
        }
      ]
    },
    {
      "cell_type": "markdown",
      "metadata": {
        "id": "MzDir7d6TOtP",
        "colab_type": "text"
      },
      "source": [
        "## Try a grid search\n",
        "\n",
        "The above looks sorta promising. See how much better we can do."
      ]
    },
    {
      "cell_type": "code",
      "metadata": {
        "id": "hpApfBOVUz7_",
        "colab_type": "code",
        "colab": {}
      },
      "source": [
        "params_xgb = {'max_depth':[3,4,5,6],\n",
        "              'learning_rate':np.logspace(-4,0,8),\n",
        "             # 'max_depth':[18,19,20],\n",
        "              'colsample_bytree':[0.8,1.0],\n",
        "              'colsample_bylevel':[0.8,1.0],\n",
        "              'colsample_bynode':[0.8,1.0],\n",
        "              'reg_alpha':[0,1],\n",
        "              'reg_lambda':[0,1]\n",
        "              }\n",
        "scores = {'prec':'precision',\n",
        "          'F1':'f1'\n",
        "         }\n",
        "gs_xgb = RandomizedSearchCV(XGBc(random_state=rand, n_jobs=-1, tree_method = 'gpu_hist', booster = 'gbtree'), \n",
        "                            params_xgb,\n",
        "                            scoring = scores,\n",
        "                            n_iter=100,\n",
        "                            refit = 'prec',\n",
        "                            verbose = 1,\n",
        "                            n_jobs=-1)"
      ],
      "execution_count": 0,
      "outputs": []
    },
    {
      "cell_type": "code",
      "metadata": {
        "id": "N72CzYVXVhLR",
        "colab_type": "code",
        "colab": {
          "base_uri": "https://localhost:8080/",
          "height": 463
        },
        "outputId": "bfc1231d-cc95-4214-90e2-aa03f39e2513"
      },
      "source": [
        "gs_xgb.fit(x_train_scale,y_train)"
      ],
      "execution_count": 53,
      "outputs": [
        {
          "output_type": "stream",
          "text": [
            "Fitting 5 folds for each of 100 candidates, totalling 500 fits\n"
          ],
          "name": "stdout"
        },
        {
          "output_type": "stream",
          "text": [
            "[Parallel(n_jobs=-1)]: Using backend LokyBackend with 2 concurrent workers.\n",
            "[Parallel(n_jobs=-1)]: Done  46 tasks      | elapsed:   23.5s\n",
            "[Parallel(n_jobs=-1)]: Done 196 tasks      | elapsed:  1.4min\n",
            "[Parallel(n_jobs=-1)]: Done 446 tasks      | elapsed:  3.2min\n",
            "[Parallel(n_jobs=-1)]: Done 500 out of 500 | elapsed:  3.6min finished\n"
          ],
          "name": "stderr"
        },
        {
          "output_type": "execute_result",
          "data": {
            "text/plain": [
              "RandomizedSearchCV(cv=None, error_score=nan,\n",
              "                   estimator=XGBClassifier(base_score=None, booster='gbtree',\n",
              "                                           colsample_bylevel=None,\n",
              "                                           colsample_bynode=None,\n",
              "                                           colsample_bytree=None, gamma=None,\n",
              "                                           gpu_id=None, importance_type='gain',\n",
              "                                           interaction_constraints=None,\n",
              "                                           learning_rate=None,\n",
              "                                           max_delta_step=None, max_depth=None,\n",
              "                                           min_child_weight=None, missing=nan,\n",
              "                                           monotone_constraints...\n",
              "                                        'colsample_bytree': [0.8, 1.0],\n",
              "                                        'learning_rate': array([1.00000000e-04, 3.72759372e-04, 1.38949549e-03, 5.17947468e-03,\n",
              "       1.93069773e-02, 7.19685673e-02, 2.68269580e-01, 1.00000000e+00]),\n",
              "                                        'max_depth': [3, 4, 5, 6],\n",
              "                                        'reg_alpha': [0, 1],\n",
              "                                        'reg_lambda': [0, 1]},\n",
              "                   pre_dispatch='2*n_jobs', random_state=None, refit='prec',\n",
              "                   return_train_score=False,\n",
              "                   scoring={'F1': 'f1', 'prec': 'precision'}, verbose=1)"
            ]
          },
          "metadata": {
            "tags": []
          },
          "execution_count": 53
        }
      ]
    },
    {
      "cell_type": "code",
      "metadata": {
        "id": "7sSzC3zNVhOy",
        "colab_type": "code",
        "colab": {
          "base_uri": "https://localhost:8080/",
          "height": 480
        },
        "outputId": "ef2ab035-a8df-4601-d2a3-ed1c6a370623"
      },
      "source": [
        "gs_xgb_results = pd.DataFrame(gs_xgb.cv_results_)\n",
        "gs_xgb_results.sort_values(by='rank_test_prec').head()"
      ],
      "execution_count": 54,
      "outputs": [
        {
          "output_type": "execute_result",
          "data": {
            "text/html": [
              "<div>\n",
              "<style scoped>\n",
              "    .dataframe tbody tr th:only-of-type {\n",
              "        vertical-align: middle;\n",
              "    }\n",
              "\n",
              "    .dataframe tbody tr th {\n",
              "        vertical-align: top;\n",
              "    }\n",
              "\n",
              "    .dataframe thead th {\n",
              "        text-align: right;\n",
              "    }\n",
              "</style>\n",
              "<table border=\"1\" class=\"dataframe\">\n",
              "  <thead>\n",
              "    <tr style=\"text-align: right;\">\n",
              "      <th></th>\n",
              "      <th>mean_fit_time</th>\n",
              "      <th>std_fit_time</th>\n",
              "      <th>mean_score_time</th>\n",
              "      <th>std_score_time</th>\n",
              "      <th>param_reg_lambda</th>\n",
              "      <th>param_reg_alpha</th>\n",
              "      <th>param_max_depth</th>\n",
              "      <th>param_learning_rate</th>\n",
              "      <th>param_colsample_bytree</th>\n",
              "      <th>param_colsample_bynode</th>\n",
              "      <th>param_colsample_bylevel</th>\n",
              "      <th>params</th>\n",
              "      <th>split0_test_prec</th>\n",
              "      <th>split1_test_prec</th>\n",
              "      <th>split2_test_prec</th>\n",
              "      <th>split3_test_prec</th>\n",
              "      <th>split4_test_prec</th>\n",
              "      <th>mean_test_prec</th>\n",
              "      <th>std_test_prec</th>\n",
              "      <th>rank_test_prec</th>\n",
              "      <th>split0_test_F1</th>\n",
              "      <th>split1_test_F1</th>\n",
              "      <th>split2_test_F1</th>\n",
              "      <th>split3_test_F1</th>\n",
              "      <th>split4_test_F1</th>\n",
              "      <th>mean_test_F1</th>\n",
              "      <th>std_test_F1</th>\n",
              "      <th>rank_test_F1</th>\n",
              "    </tr>\n",
              "  </thead>\n",
              "  <tbody>\n",
              "    <tr>\n",
              "      <th>9</th>\n",
              "      <td>0.742039</td>\n",
              "      <td>0.010039</td>\n",
              "      <td>0.029830</td>\n",
              "      <td>0.006183</td>\n",
              "      <td>1</td>\n",
              "      <td>1</td>\n",
              "      <td>3</td>\n",
              "      <td>0.0719686</td>\n",
              "      <td>1</td>\n",
              "      <td>0.8</td>\n",
              "      <td>0.8</td>\n",
              "      <td>{'reg_lambda': 1, 'reg_alpha': 1, 'max_depth':...</td>\n",
              "      <td>1.0</td>\n",
              "      <td>1.000000</td>\n",
              "      <td>1.000000</td>\n",
              "      <td>1.0</td>\n",
              "      <td>0.952381</td>\n",
              "      <td>0.990476</td>\n",
              "      <td>0.019048</td>\n",
              "      <td>1</td>\n",
              "      <td>0.857143</td>\n",
              "      <td>0.755556</td>\n",
              "      <td>0.897959</td>\n",
              "      <td>0.772727</td>\n",
              "      <td>0.816327</td>\n",
              "      <td>0.819942</td>\n",
              "      <td>0.052647</td>\n",
              "      <td>80</td>\n",
              "    </tr>\n",
              "    <tr>\n",
              "      <th>18</th>\n",
              "      <td>0.722255</td>\n",
              "      <td>0.025719</td>\n",
              "      <td>0.032449</td>\n",
              "      <td>0.003263</td>\n",
              "      <td>1</td>\n",
              "      <td>1</td>\n",
              "      <td>3</td>\n",
              "      <td>0.26827</td>\n",
              "      <td>0.8</td>\n",
              "      <td>0.8</td>\n",
              "      <td>1</td>\n",
              "      <td>{'reg_lambda': 1, 'reg_alpha': 1, 'max_depth':...</td>\n",
              "      <td>1.0</td>\n",
              "      <td>1.000000</td>\n",
              "      <td>0.920000</td>\n",
              "      <td>1.0</td>\n",
              "      <td>1.000000</td>\n",
              "      <td>0.984000</td>\n",
              "      <td>0.032000</td>\n",
              "      <td>2</td>\n",
              "      <td>0.901961</td>\n",
              "      <td>0.755556</td>\n",
              "      <td>0.884615</td>\n",
              "      <td>0.800000</td>\n",
              "      <td>0.857143</td>\n",
              "      <td>0.839855</td>\n",
              "      <td>0.054506</td>\n",
              "      <td>39</td>\n",
              "    </tr>\n",
              "    <tr>\n",
              "      <th>51</th>\n",
              "      <td>0.549984</td>\n",
              "      <td>0.022761</td>\n",
              "      <td>0.026764</td>\n",
              "      <td>0.000788</td>\n",
              "      <td>1</td>\n",
              "      <td>1</td>\n",
              "      <td>3</td>\n",
              "      <td>0.019307</td>\n",
              "      <td>1</td>\n",
              "      <td>1</td>\n",
              "      <td>1</td>\n",
              "      <td>{'reg_lambda': 1, 'reg_alpha': 1, 'max_depth':...</td>\n",
              "      <td>1.0</td>\n",
              "      <td>0.947368</td>\n",
              "      <td>1.000000</td>\n",
              "      <td>1.0</td>\n",
              "      <td>0.950000</td>\n",
              "      <td>0.979474</td>\n",
              "      <td>0.025153</td>\n",
              "      <td>3</td>\n",
              "      <td>0.857143</td>\n",
              "      <td>0.765957</td>\n",
              "      <td>0.875000</td>\n",
              "      <td>0.772727</td>\n",
              "      <td>0.791667</td>\n",
              "      <td>0.812499</td>\n",
              "      <td>0.044903</td>\n",
              "      <td>87</td>\n",
              "    </tr>\n",
              "    <tr>\n",
              "      <th>73</th>\n",
              "      <td>0.752053</td>\n",
              "      <td>0.008692</td>\n",
              "      <td>0.027346</td>\n",
              "      <td>0.001653</td>\n",
              "      <td>1</td>\n",
              "      <td>1</td>\n",
              "      <td>3</td>\n",
              "      <td>0.0719686</td>\n",
              "      <td>0.8</td>\n",
              "      <td>0.8</td>\n",
              "      <td>0.8</td>\n",
              "      <td>{'reg_lambda': 1, 'reg_alpha': 1, 'max_depth':...</td>\n",
              "      <td>1.0</td>\n",
              "      <td>0.947368</td>\n",
              "      <td>1.000000</td>\n",
              "      <td>1.0</td>\n",
              "      <td>0.950000</td>\n",
              "      <td>0.979474</td>\n",
              "      <td>0.025153</td>\n",
              "      <td>3</td>\n",
              "      <td>0.880000</td>\n",
              "      <td>0.765957</td>\n",
              "      <td>0.897959</td>\n",
              "      <td>0.800000</td>\n",
              "      <td>0.791667</td>\n",
              "      <td>0.827117</td>\n",
              "      <td>0.052053</td>\n",
              "      <td>70</td>\n",
              "    </tr>\n",
              "    <tr>\n",
              "      <th>70</th>\n",
              "      <td>0.811488</td>\n",
              "      <td>0.045037</td>\n",
              "      <td>0.029445</td>\n",
              "      <td>0.001127</td>\n",
              "      <td>1</td>\n",
              "      <td>1</td>\n",
              "      <td>4</td>\n",
              "      <td>0.00517947</td>\n",
              "      <td>0.8</td>\n",
              "      <td>0.8</td>\n",
              "      <td>0.8</td>\n",
              "      <td>{'reg_lambda': 1, 'reg_alpha': 1, 'max_depth':...</td>\n",
              "      <td>1.0</td>\n",
              "      <td>0.937500</td>\n",
              "      <td>0.958333</td>\n",
              "      <td>1.0</td>\n",
              "      <td>1.000000</td>\n",
              "      <td>0.979167</td>\n",
              "      <td>0.026352</td>\n",
              "      <td>5</td>\n",
              "      <td>0.880000</td>\n",
              "      <td>0.681818</td>\n",
              "      <td>0.901961</td>\n",
              "      <td>0.800000</td>\n",
              "      <td>0.808511</td>\n",
              "      <td>0.814458</td>\n",
              "      <td>0.077188</td>\n",
              "      <td>85</td>\n",
              "    </tr>\n",
              "  </tbody>\n",
              "</table>\n",
              "</div>"
            ],
            "text/plain": [
              "    mean_fit_time  std_fit_time  ...  std_test_F1  rank_test_F1\n",
              "9        0.742039      0.010039  ...     0.052647            80\n",
              "18       0.722255      0.025719  ...     0.054506            39\n",
              "51       0.549984      0.022761  ...     0.044903            87\n",
              "73       0.752053      0.008692  ...     0.052053            70\n",
              "70       0.811488      0.045037  ...     0.077188            85\n",
              "\n",
              "[5 rows x 28 columns]"
            ]
          },
          "metadata": {
            "tags": []
          },
          "execution_count": 54
        }
      ]
    },
    {
      "cell_type": "code",
      "metadata": {
        "id": "Ln18pG2LXIcT",
        "colab_type": "code",
        "colab": {}
      },
      "source": [
        "gamma (float) – Minimum loss reduction required to make a further partition on a leaf node of the tree.\n",
        "\n",
        "reg_alpha (float (xgb's alpha)) – L1 regularization term on weights\n",
        "\n",
        "reg_lambda (float (xgb's lambda)) – L2 regularization term on weights\n",
        "\n",
        "scale_pos_weight (float) – Balancing of positive and negative weights."
      ],
      "execution_count": 0,
      "outputs": []
    }
  ]
}